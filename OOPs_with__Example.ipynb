{
  "nbformat": 4,
  "nbformat_minor": 0,
  "metadata": {
    "colab": {
      "private_outputs": true,
      "provenance": [],
      "collapsed_sections": [],
      "include_colab_link": true
    },
    "kernelspec": {
      "name": "python3",
      "display_name": "Python 3"
    },
    "language_info": {
      "name": "python"
    }
  },
  "cells": [
    {
      "cell_type": "markdown",
      "metadata": {
        "id": "view-in-github",
        "colab_type": "text"
      },
      "source": [
        "<a href=\"https://colab.research.google.com/github/YashThavkar/OOPS/blob/main/OOPs_with__Example.ipynb\" target=\"_parent\"><img src=\"https://colab.research.google.com/assets/colab-badge.svg\" alt=\"Open In Colab\"/></a>"
      ]
    },
    {
      "cell_type": "markdown",
      "source": [
        "# **OOPs**"
      ],
      "metadata": {
        "id": "OQgcKxT7mt7O"
      }
    },
    {
      "cell_type": "markdown",
      "source": [
        "# **Class ,  Constructer, Objects**"
      ],
      "metadata": {
        "id": "OdqxoqZXbXbR"
      }
    },
    {
      "cell_type": "code",
      "source": [
        "#we will make a dataset of an company so we will be clear about all features of oops\n",
        "\n",
        "class employee:\n",
        "\n",
        "  increment =1.5\n",
        "  no_of_employee =0\n",
        "\n",
        "  def __init__(self, name ,lname, salary):\n",
        "    self.name= name\n",
        "    self.lname= lname\n",
        "    self.salary= salary\n",
        "    employee.no_of_employee +=1\n",
        "   # self.increment= 1.3\n",
        "#here first it will search increment in instance variable in self.*** then it will search in class and if it is present it will take it     \n",
        "# increase is a function\n",
        "  def increase(self):\n",
        "    self.salary = self.salary * self.increment\n",
        "\n",
        "\n",
        "#class method is decorater\n",
        "#Class Method to increase salary for a individual function\n",
        "  @classmethod\n",
        "  def change_increment(cls,amount):\n",
        "    cls.increment = amount\n",
        "\n",
        "#class method for accepting a single string and store all the variables in sorted manner\n",
        "  @classmethod\n",
        "  def from_str(cls, emp_string):\n",
        "    name, lname, salary = emp_string.split(\",\")\n",
        "    return cls(name, lname, salary)\n",
        "\n",
        "\n",
        "#now we don't need of class variable as well as function variable \n",
        "#so we will go with static method\n",
        "#always remember satic method is return in form of @saticmethod\n",
        "  @staticmethod\n",
        "  def isopen(day):\n",
        "    if day== 'Sunday':\n",
        "      return False\n",
        "    else:\n",
        "      return True\n",
        "\n",
        "  def __add__(self , other):\n",
        "    return (self.salary+ other.salary)\n",
        "\n",
        "\n",
        "#now we are making complete class different\n",
        "#now we will work with inheritence how to extract the complete class functions to other class\n",
        "class programmer(employee):\n",
        "    def __init__(self, name, lname,salary, proglang, exp):\n",
        "      super().__init__(name, lname, salary)\n",
        "      self.proglang= proglang\n",
        "      self.exp= exp\n",
        "\n",
        "    #now we will work with new function within programmer class to increase salary of programmer\n",
        "    def increase(self):\n",
        "      self.salary = int(self.salary * (increment+0.3))\n",
        "      return self.salary\n",
        "\n",
        "    \n",
        "\n",
        "#dunder method\n",
        "a= 15\n",
        "print(a.__add__(17))\n",
        "print(a.__mul__(6))\n",
        "\n"
      ],
      "metadata": {
        "id": "IPX7Zn7rcNwE"
      },
      "execution_count": null,
      "outputs": []
    },
    {
      "cell_type": "code",
      "source": [
        "\n",
        "print(employee.no_of_employee)\n",
        "fazle= employee('Fazle' ,'Hasan' , 40000)\n",
        "\n",
        "print(employee.no_of_employee)\n",
        "karan = employee('Karan' ,'Mudkondwar', 35000)\n",
        "ritvik =employee ('Ritvik' , \"Nimje\" ,36000)\n",
        "\n",
        "print(employee.no_of_employee)\n",
        "yash = employee('Yash' , 'Thavkar' , 33000)\n",
        "\n",
        "print(employee.no_of_employee)\n",
        "\n"
      ],
      "metadata": {
        "id": "aqGyISvsG9e-"
      },
      "execution_count": null,
      "outputs": []
    },
    {
      "cell_type": "code",
      "source": [
        "#here it shows the address of the variable\n",
        "print(fazle)\n",
        "\n",
        "#in this there will be add of key:value in fazle object with place: nagpur\n",
        "fazle.place = \"nagpur\"\n",
        "\n",
        "\n",
        "\n"
      ],
      "metadata": {
        "id": "cHsoZKRWreBY"
      },
      "execution_count": null,
      "outputs": []
    },
    {
      "cell_type": "code",
      "source": [
        "\n",
        "print(ritvik.__dict__)\n",
        "\n",
        "#here we will able to see complete object present inside employee\n",
        "print(employee.__dict__)"
      ],
      "metadata": {
        "id": "q6PjUpJxJc1z"
      },
      "execution_count": null,
      "outputs": []
    },
    {
      "cell_type": "code",
      "source": [
        "#thid id use for increasing a single function just with class method\n",
        "print(fazle.salary)\n",
        "employee.change_increment(2)\n",
        "fazle.increase()\n",
        "print(fazle.salary)"
      ],
      "metadata": {
        "id": "YxfVRO0RVetb"
      },
      "execution_count": null,
      "outputs": []
    },
    {
      "cell_type": "code",
      "source": [
        "#class method as alternative constructer\n",
        "\n",
        "#if i want to add a employee with a single string like\n",
        "dev = employee.from_str(\"Dev,Patel,40000\")\n",
        "#to complete this process we have to make a class function like we have made to increase the salary of a individual employee\n",
        "\n",
        "print(dev.salary)"
      ],
      "metadata": {
        "id": "oVlu-ZeYZrpr"
      },
      "execution_count": null,
      "outputs": []
    },
    {
      "cell_type": "code",
      "source": [
        "#this is use for static function while there is no use of class function , variable function just need of staticmethod\n",
        "print(employee.isopen('Sunday'))\n",
        "print(employee.isopen('Monday'))"
      ],
      "metadata": {
        "id": "EbONkSjUvXvB"
      },
      "execution_count": null,
      "outputs": []
    },
    {
      "cell_type": "code",
      "source": [
        "#this is a new class which is we have devloped by reusing the old class and adding sum function in it\n",
        "dev = programmer('Dev', 'Patel', '40000','python','1')\n",
        "print(dev.exp)"
      ],
      "metadata": {
        "id": "rRHrQSw_J3oO"
      },
      "execution_count": null,
      "outputs": []
    },
    {
      "cell_type": "code",
      "source": [
        "print(help(programmer))"
      ],
      "metadata": {
        "id": "jpZN65zUKL1w"
      },
      "execution_count": null,
      "outputs": []
    },
    {
      "cell_type": "code",
      "source": [
        "#now we will work with new function within programmer class to increase salary of programmer\n",
        "print(karan.increase())\n",
        "print(karan.salary)"
      ],
      "metadata": {
        "id": "Ifs5xoysKoHh"
      },
      "execution_count": null,
      "outputs": []
    },
    {
      "cell_type": "code",
      "source": [
        "# working on adding of two salary with dunder method\n",
        "\n",
        "print(ritvik+ karan)\n",
        "print(yash+fazle)"
      ],
      "metadata": {
        "id": "bqd2rUxBMHis"
      },
      "execution_count": null,
      "outputs": []
    },
    {
      "cell_type": "code",
      "source": [],
      "metadata": {
        "id": "S7Y-mlQ1e-PN"
      },
      "execution_count": null,
      "outputs": []
    }
  ]
}